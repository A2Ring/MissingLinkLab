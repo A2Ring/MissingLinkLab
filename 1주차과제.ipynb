{
  "nbformat": 4,
  "nbformat_minor": 0,
  "metadata": {
    "colab": {
      "name": "1주차과제.ipynb",
      "provenance": [],
      "collapsed_sections": [],
      "authorship_tag": "ABX9TyNLlCFZLkf1niVlpNt4dQFu",
      "include_colab_link": true
    },
    "kernelspec": {
      "name": "python3",
      "display_name": "Python 3"
    }
  },
  "cells": [
    {
      "cell_type": "markdown",
      "metadata": {
        "id": "view-in-github",
        "colab_type": "text"
      },
      "source": [
        "<a href=\"https://colab.research.google.com/github/A2Ring/MissingLinkLab/blob/master/1%EC%A3%BC%EC%B0%A8%EA%B3%BC%EC%A0%9C.ipynb\" target=\"_parent\"><img src=\"https://colab.research.google.com/assets/colab-badge.svg\" alt=\"Open In Colab\"/></a>"
      ]
    },
    {
      "cell_type": "markdown",
      "metadata": {
        "id": "uZjaS1_UdaH3",
        "colab_type": "text"
      },
      "source": [
        "트롤러와 핵사용 유저 중에 누가 더 게임생태계를 파괴하는 주범이냐고 묻는다면\n",
        "대부분 유저들은 핵사용 유저를 집을 겁니다.\n",
        "\n",
        "[블로그링크](https://m.blog.naver.com/jsk6824/221818637313)\n",
        "\n",
        "이런식으로 간단히 만들어질 수있는 핵들이 많이 퍼져있는 것은 관심있는 사람이라면 아는 사실이니까요.\n",
        "\n",
        "그러면 반대로 핵을 찾는 혹은 그들의 패턴을 분석 할 데이터를 수집하는 프로그램을 만들 수 있지않을까?\n",
        "\n",
        "게임 화면 이미지 수집과 게임에서 들여오는 효과음과 BGM이 인간의 영역, 가청주파수대인 것인지 혹은 볼수없는 영역에 비 정상적인 움직임이 있다면 해당되는 데이터를 수집하고 분석하고, 특히 프로게이머들의 도움을 받는다면 인간가능영역에 대한 데이터를 바탕으로 만든다면 더욱 완성도 있어 보일 것 같습니다.\n",
        "\n",
        "그리고 현재 카운터 스트라이크는 인공지능을 통해 핵 사용 유저를 색별하고 있는 것으로 알고 있습니다.\n",
        "\n",
        "[레딧링크](https://www.reddit.com/r/GlobalOffensive/comments/5u2xly/eli5_why_are_spinbots_not_autodetected_or_atleast/ddr7ydq/)\n",
        "\n",
        "하지만 갓 입문한 사람으로써 현재는 불가능한 목표이므로\n",
        "최소한의 의심되는 행동에 대한 이미지를 수집하는 프로그래밍하는 것을 목표로 삼아보자."
      ]
    }
  ]
}