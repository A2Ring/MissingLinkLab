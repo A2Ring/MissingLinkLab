{
  "nbformat": 4,
  "nbformat_minor": 0,
  "metadata": {
    "colab": {
      "name": "Untitled0.ipynb",
      "provenance": [],
      "authorship_tag": "ABX9TyNznsiE8EznHrUQIHUejNsT",
      "include_colab_link": true
    },
    "kernelspec": {
      "name": "python3",
      "display_name": "Python 3"
    }
  },
  "cells": [
    {
      "cell_type": "markdown",
      "metadata": {
        "id": "view-in-github",
        "colab_type": "text"
      },
      "source": [
        "<a href=\"https://colab.research.google.com/github/A2Ring/MissingLinkLab/blob/master/%EA%B3%BC%EC%A0%9C%EC%9A%A9.ipynb\" target=\"_parent\"><img src=\"https://colab.research.google.com/assets/colab-badge.svg\" alt=\"Open In Colab\"/></a>"
      ]
    },
    {
      "cell_type": "code",
      "metadata": {
        "id": "-iTFFeBccbhV",
        "colab_type": "code",
        "colab": {}
      },
      "source": [
        "#이렇게하면 되겠지!\n",
        "##요즘 파이썬으로도 게임 핵들이 만들어진데!\n",
        "###띠옹!\n",
        "**그러면 핵사용자도 파이썬을 이용해서 데이터 수집할수 있는걸 만들수 있지않을까?!**"
      ],
      "execution_count": 0,
      "outputs": []
    },
    {
      "cell_type": "code",
      "metadata": {
        "id": "IcgX55w-ehWv",
        "colab_type": "code",
        "colab": {}
      },
      "source": [
        ""
      ],
      "execution_count": 0,
      "outputs": []
    }
  ]
}